{
 "cells": [
  {
   "cell_type": "code",
   "execution_count": 38,
   "metadata": {},
   "outputs": [
    {
     "name": "stdout",
     "output_type": "stream",
     "text": [
      "\n",
      "image 1/1 e:\\FCSE\\1. Data Science\\slash\\assem's component analyzer\\images\\image1.jpeg: 480x640 1 couch, 1 laptop, 1433.4ms\n",
      "Speed: 15.6ms preprocess, 1433.4ms inference, 15.6ms postprocess per image at shape (1, 3, 480, 640)\n"
     ]
    }
   ],
   "source": [
    "from ultralytics import YOLO\n",
    "path='images/image1.jpeg'\n",
    "model = YOLO(\"yolov9c.pt\")\n",
    "results=model(path)"
   ]
  },
  {
   "cell_type": "code",
   "execution_count": null,
   "metadata": {},
   "outputs": [],
   "source": []
  },
  {
   "cell_type": "code",
   "execution_count": 39,
   "metadata": {},
   "outputs": [
    {
     "name": "stdout",
     "output_type": "stream",
     "text": [
      "Class: laptop, Confidence: 0.9518657326698303\n",
      "Class: couch, Confidence: 0.8974059224128723\n"
     ]
    }
   ],
   "source": [
    "# print (results[0])\n",
    "for result in results:\n",
    "    # print(result)\n",
    "    result.save()  # or .show()\n",
    "\n",
    "\n",
    "    for obj in result.boxes.data.tolist():\n",
    "        _,_,_,_, confidence, cls = obj\n",
    "        class_name = result.names[cls]\n",
    "        print(f\"Class: {class_name}, Confidence: {confidence}\")\n",
    "        \n"
   ]
  },
  {
   "cell_type": "code",
   "execution_count": 41,
   "metadata": {},
   "outputs": [
    {
     "name": "stdout",
     "output_type": "stream",
     "text": [
      "Downloading https://github.com/ultralytics/assets/releases/download/v8.2.0/yolov8n.pt to 'yolov8n.pt'...\n"
     ]
    },
    {
     "name": "stderr",
     "output_type": "stream",
     "text": [
      "100%|██████████| 6.23M/6.23M [00:01<00:00, 4.05MB/s]\n"
     ]
    },
    {
     "name": "stdout",
     "output_type": "stream",
     "text": [
      "\n",
      "image 1/1 e:\\FCSE\\1. Data Science\\slash\\assem's component analyzer\\images\\image1.jpeg: 480x640 1 person, 2 laptops, 2 keyboards, 181.0ms\n",
      "Speed: 0.0ms preprocess, 181.0ms inference, 2.3ms postprocess per image at shape (1, 3, 480, 640)\n",
      "Class: laptop, Confidence: 0.7069736123085022\n",
      "Class: keyboard, Confidence: 0.6180559992790222\n",
      "Class: person, Confidence: 0.5341526865959167\n",
      "Class: keyboard, Confidence: 0.40395575761795044\n",
      "Class: laptop, Confidence: 0.34321486949920654\n"
     ]
    }
   ],
   "source": [
    "#import yolov8 with different versions and perform detection as above\n",
    "model=YOLO('yolov8n')\n",
    "results=model(path)\n",
    "for result in results:\n",
    "    result.save()\n",
    "    for obj in result.boxes.data.tolist():\n",
    "        _,_,_,_, confidence, cls = obj\n",
    "        class_name = result.names[cls]\n",
    "        print(f\"Class: {class_name}, Confidence: {confidence}\")\n",
    "\n"
   ]
  },
  {
   "cell_type": "code",
   "execution_count": 42,
   "metadata": {},
   "outputs": [
    {
     "name": "stdout",
     "output_type": "stream",
     "text": [
      "Downloading https://github.com/ultralytics/assets/releases/download/v8.2.0/yolov8s.pt to 'yolov8s.pt'...\n"
     ]
    },
    {
     "name": "stderr",
     "output_type": "stream",
     "text": [
      "100%|██████████| 21.5M/21.5M [00:03<00:00, 6.98MB/s]\n"
     ]
    },
    {
     "name": "stdout",
     "output_type": "stream",
     "text": [
      "\n",
      "image 1/1 e:\\FCSE\\1. Data Science\\slash\\assem's component analyzer\\images\\image1.jpeg: 480x640 1 person, 1 couch, 2 laptops, 1 keyboard, 413.5ms\n",
      "Speed: 0.0ms preprocess, 413.5ms inference, 0.0ms postprocess per image at shape (1, 3, 480, 640)\n",
      "Class: laptop, Confidence: 0.9028485417366028\n",
      "Class: keyboard, Confidence: 0.4132075011730194\n",
      "Class: couch, Confidence: 0.39346396923065186\n",
      "Class: laptop, Confidence: 0.33336883783340454\n",
      "Class: person, Confidence: 0.29995107650756836\n"
     ]
    }
   ],
   "source": [
    "model = YOLO(\"yolov8s.pt\")\n",
    "results=model(path)\n",
    "for result in results:\n",
    "    result.save()\n",
    "    for obj in result.boxes.data.tolist():\n",
    "        _,_,_,_, confidence, cls = obj\n",
    "        class_name = result.names[cls]\n",
    "        print(f\"Class: {class_name}, Confidence: {confidence}\")\n",
    "        "
   ]
  },
  {
   "cell_type": "code",
   "execution_count": 43,
   "metadata": {},
   "outputs": [
    {
     "name": "stdout",
     "output_type": "stream",
     "text": [
      "Downloading https://github.com/ultralytics/assets/releases/download/v8.2.0/yolov8x.pt to 'yolov8x.pt'...\n"
     ]
    },
    {
     "name": "stderr",
     "output_type": "stream",
     "text": [
      "100%|██████████| 131M/131M [00:17<00:00, 7.87MB/s] \n"
     ]
    },
    {
     "name": "stdout",
     "output_type": "stream",
     "text": [
      "\n",
      "image 1/1 e:\\FCSE\\1. Data Science\\slash\\assem's component analyzer\\images\\image1.jpeg: 480x640 1 person, 1 tennis racket, 1 couch, 1 laptop, 2448.8ms\n",
      "Speed: 3.0ms preprocess, 2448.8ms inference, 15.6ms postprocess per image at shape (1, 3, 480, 640)\n",
      "Class: laptop, Confidence: 0.9605206251144409\n",
      "Class: couch, Confidence: 0.9087124466896057\n",
      "Class: person, Confidence: 0.6303464770317078\n",
      "Class: tennis racket, Confidence: 0.2646413743495941\n"
     ]
    }
   ],
   "source": [
    "model = YOLO(\"yolov8x.pt\")\n",
    "results=model(path)\n",
    "for result in results:\n",
    "    result.save()\n",
    "    for obj in result.boxes.data.tolist():\n",
    "        _,_,_,_, confidence, cls = obj\n",
    "        class_name = result.names[cls]\n",
    "        print(f\"Class: {class_name}, Confidence: {confidence}\")"
   ]
  },
  {
   "cell_type": "markdown",
   "metadata": {},
   "source": []
  }
 ],
 "metadata": {
  "kernelspec": {
   "display_name": "Python 3",
   "language": "python",
   "name": "python3"
  },
  "language_info": {
   "codemirror_mode": {
    "name": "ipython",
    "version": 3
   },
   "file_extension": ".py",
   "mimetype": "text/x-python",
   "name": "python",
   "nbconvert_exporter": "python",
   "pygments_lexer": "ipython3",
   "version": "3.11.5"
  }
 },
 "nbformat": 4,
 "nbformat_minor": 2
}
